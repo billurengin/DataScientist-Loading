{
 "cells": [
  {
   "cell_type": "markdown",
   "metadata": {},
   "source": [
    "\n",
    "Author: H. Billur Engin\n",
    "Hello All,\n",
    "\n",
    "Since I was a teaching assistant in \"Database Management Systems\" course and have used SQL on and off during my grad&post-grad years, I was already familiar with SQL to some degree. After I decided to make my transition from academia to industry, I needed to dust off my rusty SQL skills a bit. \n",
    "\n",
    "First I overviewed 2 MOOCs: \n",
    "* [SQL Essential Training - Lynda.com](https://www.lynda.com/SQL-tutorials/SQL-Essential-Training/139988-2.html)\n",
    "* [Managing Big Data with MySQL - Coursera.org](https://www.coursera.org/learn/analytics-mysql/home)\n",
    "\n",
    "Downloaded:\n",
    "* Data\n",
    "* MySQL\n",
    "* Practice\n",
    "\n",
    "Then, studied the SQL interview questions from the following sources:\n",
    "* [tutorialspoint.com](http://www.tutorialspoint.com/sql/sql_interview_questions.htm)\n",
    "* \n",
    "* \n",
    "\n",
    "\n",
    "\n"
   ]
  },
  {
   "cell_type": "markdown",
   "metadata": {},
   "source": [
    "## _Below is my SQL cheatsheet:_\n",
    "\n",
    "## <span style=\"color:blue\">**1. Key Concepts:**</span>\n",
    "* **SQL:**Structured Query Language, communicates with relational databases\n",
    "    - DDL (Data Definition Language) : Defines tables, indexes, relationships\n",
    "        - <span style=\"color:red\">CREATE</span><br \\>\n",
    "          **CREATE TABLE test (a INTEGER, b TEXT);**<br \\>\n",
    "          Use Constrains<br \\>\n",
    "          **CREATE TABLE test (\n",
    "              a INTEGER NOT NULL ,<br \\>\n",
    "              b TEXT DEFAULT \"b\", <br \\>\n",
    "              c TEXT UNIQUE NOT NULL);**\n",
    "          **CREATE TABLE test (id INTEGER PRIMARY KEY);**<br \\>\n",
    "        - <span style=\"color:red\">ALTER</span> (Add, modify, delete columns in a database table)\n",
    "          **ALTER TABLE test ADD d TEXT;**<br \\>\n",
    "          **ALTER TABLE test ADD e TEXT Default \"panda\";**\n",
    "          ### <span style=\"color:green\"> ADD MODIFY and DELETE examples</span>\n",
    "        - <span style=\"color:red\">DROP</span>\n",
    "          **DROP TABLE test;**<br \\>\n",
    "    - DML (Data Manuipulation Language) : Works on already existing tables/ data\n",
    "        - <span style=\"color:red\">SELECT</span>\n",
    "        - <span style=\"color:red\">INSERT INTO (new rows)</span><br \\>\n",
    "          **INSERT INTO table (..fields..) VALUES (..values..);**<br \\>\n",
    "          **INSERT INTO Customer (name, city, zip) VALUES (\"Fred\", \"Bedrock\",\"91234\");**\n",
    "        - <span style=\"color:red\">UPDATE</span> (existing rows)<br \\>\n",
    "          **UPDATE table SET field = Value;**<br \\>\n",
    "          **UPDATE Customer SET Address = \"Bedrock\", WHERE Name = \"Fred\";**\n",
    "        - <span style=\"color:red\">DELETE</span> (existing rows)<br \\>\n",
    "          **DELETE * FROM Customer WHERE id = 5;**<br \\>\n",
    "          TIP : First write a SELECT query, then replace \"SELECT\" with \"DELETE\"\n",
    "        - <span style=\"color:red\">BULK INSERT</span>\n",
    "        - <span style=\"color:red\">MERGE</span>\n",
    "        \n",
    "* **RDBMS**: Relational Database Management System (MySQL, SQLlite, Microsoft SQL Server)\n",
    "    - (CRUD) 4 basic functions of any complete database management system\"\n",
    "        - Create\n",
    "        - Retrieve\n",
    "        - Update\n",
    "        - Delete\n",
    "\n",
    "\n",
    "* **DATA TYPES**:\n",
    "    - INT / INTEGER\n",
    "    - DECIMAL\n",
    "    - VARCHAR / TEXT\n",
    "    - MONEY\n",
    "    - DATETIME\n",
    "    - CHAR\n",
    "    - BIT\n",
    "    \n",
    "    TYPEOF()\n",
    "\n",
    "* **COMMENT**:\n",
    "    -- This is a comment<br \\>\n",
    "    /\\* This<br \\>\n",
    "    is a C style <br \\>\n",
    "    comment\\*/<br \\>\n",
    "\n",
    "* **ER Diagram:**Entity Relationship Diagram -> conceptual realtionships\n",
    "    - Entities : tables\n",
    "    - Attributes : aspects of entities -> table columns\n",
    "    - Entity Instances : table rows\n",
    "    - Unique Attributes : An Attribute with Unique value in each entity instance\n",
    "    - Composite Attributes : combination of other attributes\n",
    "    - Partial Key : will not identify the entity wihtin itself\n",
    "* **Relational Schemas:**\n",
    "    - Tables\n",
    "    - Primary Keys : unique attributes, only 1 primary key, no null values allowed\n",
    "    - Foregin Keys : for linking tables to other tables\n",
    "    - Composite Key : combination of primary Keys\n",
    "    \n",
    "* **Notes:**\n",
    "    - SQL is not case sensitive\n",
    "    - white space is ignored in SQL\n",
    "     ### <span style=\"color:green\"> ADD LIKE example</span>\n",
    "    - LIKE operator and % wild card\n",
    "\n",
    "\n",
    "## <p style=\"text-align: center;\"> ER Diagram Symbols [source](http://www.studytonight.com/dbms/er-diagram)</p>\n",
    "![](images/er-diagram-symbol.png)\n",
    "\n",
    "## <p style=\"text-align: center;\"> ER Diagram - Cardinality Symbols [source](http://infohost.nmt.edu/tcc/sa/erd_how.html)</p>\n",
    "![](images/erd_how.png)"
   ]
  },
  {
   "cell_type": "markdown",
   "metadata": {},
   "source": [
    "## <span style=\"color:blue\">**2. Select Query Format:**</span>\n",
    "SELECT <span style=\"color:red\">\\*</span><br />\n",
    "FROM <span style=\"color:red\">\\*</span><br />\n",
    "WHERE<br />\n",
    "GROUP BY<br />\n",
    "HAVING<br />\n",
    "ORDER BY<br />\n",
    "LIMIT<br />\n",
    "OFFSET (index starts from 0)<br />\n",
    "; <span style=\"color:red\">\\*</span><br />\n",
    "\n",
    "<span style=\"color:red\">\\*</span> Required\n",
    "\n",
    "\n",
    "- SELECT <span style=\"color:red\">field</span> FROM <span style=\"color:red\">table</span> WHERE <span style=\"color:red\">criteria</span> GROUP BY <span style=\"color:red\">field</span> HAVING <span style=\"color:red\">property</span> ORDER BY <span style=\"color:red\">field</span>;\n",
    "\n",
    "- 0, \"\" and NULL are treated differently. NULL = lack of information\n",
    "- ORDER BY can not be used in inner subqueries"
   ]
  },
  {
   "cell_type": "markdown",
   "metadata": {},
   "source": [
    "## <span style=\"color:blue\">**3. Aggregate Functions:**</span>\n",
    "* SUM\n",
    "* AVG\n",
    "* MIN\n",
    "* MAX\n",
    "* COUNT"
   ]
  },
  {
   "cell_type": "markdown",
   "metadata": {},
   "source": [
    "## <span style=\"color:blue\">**4. JOINs:**</span>\n",
    "- INNER JOIN\n",
    "- LEFT JOIN\n",
    "- RIGHT JOIN\n",
    "- OUTER JOIN\n",
    "\n",
    "* Use ___WHERE T1.id1=T2.id2___ , otherwise the query will return the carteasian product\n",
    "\n",
    "**Ex:** <br/>\n",
    "        SELECT \\*<br/> \n",
    "        FROM T1 JOIN T2<br/>\n",
    "        ON T1.id1=T2.id2;<br/>\n",
    "\n",
    "## <p style=\"text-align: center;\"> JOINS [source](https://www.coursera.org/learn/analytics-mysql/home)</p>\n",
    "![](images/joins.png)"
   ]
  },
  {
   "cell_type": "markdown",
   "metadata": {},
   "source": [
    "## <span style=\"color:blue\">**5. Membership Opertors:**</span>\n",
    "- IN\n",
    "- NOT IN\n",
    "- EXITS\n",
    "- NOT EXISTS"
   ]
  },
  {
   "cell_type": "markdown",
   "metadata": {},
   "source": [
    "## <span style=\"color:blue\">**6. LOGICAL FUNCTIONS:**</span>\n",
    "    * CASE WHEN ... THEN\n",
    "           WHEN ... THEN\n",
    "           ELSE ..\n",
    "      END"
   ]
  },
  {
   "cell_type": "markdown",
   "metadata": {},
   "source": [
    "## <span style=\"color:blue\">**7. EVALUATION ORDER:**</span>\n",
    "* NOT\n",
    "* AND\n",
    "* OR"
   ]
  },
  {
   "cell_type": "markdown",
   "metadata": {},
   "source": [
    "## <span style=\"color:blue\">**8. STRING FUNCTIONS:**</span>\n",
    "* CONCAT()\n",
    "* SUBSTR()\n",
    "* LENGTH()\n",
    "* TRIM()\n",
    "* UPPER()\n",
    "* LOWER()"
   ]
  },
  {
   "cell_type": "markdown",
   "metadata": {},
   "source": [
    "## <span style=\"color:blue\">**9. MULTIPLE COLUMN COMPARISONS:**</span>\n",
    "* IN\n",
    "* ANY\n",
    "* ALL"
   ]
  },
  {
   "cell_type": "markdown",
   "metadata": {},
   "source": [
    "## <span style=\"color:blue\">**10. TRANSACTIONS, TRIGGERS, VIEWS:**</span>\n",
    "* TRANSACTIONS : group of operations, if one query fails all transaction fails and the database returns to its before transaction state\n",
    "* TRIGGERS : \n",
    "* VIEW :\n",
    "**CREATE VIEW ... (a INTEGER, b TEXT);**"
   ]
  },
  {
   "cell_type": "code",
   "execution_count": null,
   "metadata": {
    "collapsed": true
   },
   "outputs": [],
   "source": []
  }
 ],
 "metadata": {
  "kernelspec": {
   "display_name": "Python 2",
   "language": "python",
   "name": "python2"
  },
  "language_info": {
   "codemirror_mode": {
    "name": "ipython",
    "version": 2
   },
   "file_extension": ".py",
   "mimetype": "text/x-python",
   "name": "python",
   "nbconvert_exporter": "python",
   "pygments_lexer": "ipython2",
   "version": "2.7.12"
  }
 },
 "nbformat": 4,
 "nbformat_minor": 0
}
