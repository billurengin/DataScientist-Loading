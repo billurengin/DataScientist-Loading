{
 "cells": [
  {
   "cell_type": "code",
   "execution_count": 16,
   "metadata": {
    "collapsed": false
   },
   "outputs": [],
   "source": [
    "import numpy as np # linear algebra\n",
    "import pandas as pd # data processing, CSV file I/O (e.g. pd.read_csv)\n",
    "import seaborn as sns\n",
    "from sklearn.linear_model import LinearRegression\n",
    "%matplotlib inline\n",
    "import matplotlib.pyplot as plt\n",
    "pd.options.display.max_columns = None"
   ]
  },
  {
   "cell_type": "code",
   "execution_count": 3,
   "metadata": {
    "collapsed": false
   },
   "outputs": [
    {
     "data": {
      "text/plain": [
       "'we discarded 106 rows, since they dont have any data associated with them'"
      ]
     },
     "execution_count": 3,
     "metadata": {},
     "output_type": "execute_result"
    }
   ],
   "source": [
    "#Lets load the literacy data and discard the rows that dont have any data associated with them\n",
    "literacy = pd.read_csv(\"adultliteracy.csv\")\n",
    "literacy.rename(index = str, columns={\"Adult..15...literacy.rate......Total\":\"Country\"}, inplace=True)\n",
    "old =  literacy.shape[0]\n",
    "literacy.dropna(how=\"all\", subset = list(literacy.columns)[1:], inplace=True)\n",
    "new = literacy.shape[0]\n",
    "'we discarded ' + str(old - new) + ' rows, since they dont have any data associated with them'"
   ]
  },
  {
   "cell_type": "markdown",
   "metadata": {},
   "source": [
    "# The Bad Teeth Data"
   ]
  },
  {
   "cell_type": "code",
   "execution_count": 4,
   "metadata": {
    "collapsed": false
   },
   "outputs": [],
   "source": [
    "badteeth = pd.read_csv(\"badteeth.csv\")\n",
    "badteeth.drop([\"NA..1\", \"NA..2\", \"NA..3\"], axis = 1, inplace = True)\n",
    "badteeth.dropna(inplace = True)\n",
    "badteeth.rename(columns = {\"NA.\":\"Country\", \"X2004\":\"badteeth\"}, inplace=True)\n",
    "badteeth.sort_values(by=[\"badteeth\"], ascending=[0], inplace = True)\n",
    "badteeth_literacy = pd.merge(badteeth, literacy, how = \"inner\", on = \"Country\")\n",
    "badteeth_literacy[\"literacy_avg\"] = badteeth_literacy[list(badteeth_literacy.columns)[2:]].mean(axis=1,skipna = True)\n",
    "badteeth_literacy.drop(list(badteeth_literacy.columns)[2:badteeth_literacy.shape[1]-1], axis = 1, inplace = True)\n",
    "#badteeth_literacy.head()"
   ]
  },
  {
   "cell_type": "markdown",
   "metadata": {},
   "source": [
    "# GDP Data"
   ]
  },
  {
   "cell_type": "code",
   "execution_count": 5,
   "metadata": {
    "collapsed": false
   },
   "outputs": [
    {
     "data": {
      "text/plain": [
       "'we discarded 75 rows, since they dont have any data associated with them'"
      ]
     },
     "execution_count": 5,
     "metadata": {},
     "output_type": "execute_result"
    }
   ],
   "source": [
    "GDP = pd.read_csv(\"gdp.csv\")\n",
    "GDP.rename(index = str, columns={\"Income.per.person..fixed.2000.US..\":\"Country\"}, inplace=True)\n",
    "old = GDP.shape[0]\n",
    "GDP.dropna(how=\"all\", subset = list(GDP.columns)[1:], inplace=True)\n",
    "new = GDP.shape[0]\n",
    "'we discarded ' + str(old - new) + ' rows, since they dont have any data associated with them'"
   ]
  },
  {
   "cell_type": "code",
   "execution_count": 7,
   "metadata": {
    "collapsed": false
   },
   "outputs": [],
   "source": [
    "badteeth_literacy_gdp = pd.merge(badteeth_literacy, GDP, how = \"inner\", on = \"Country\")\n",
    "badteeth_literacy_gdp[\"gdp_avg\"] = badteeth_literacy_gdp[list(badteeth_literacy_gdp.columns)[3:]].mean(axis=1,skipna = True)\n",
    "badteeth_literacy_gdp.drop(list(badteeth_literacy_gdp.columns)[3:badteeth_literacy_gdp.shape[1]-1], axis = 1, inplace = True)\n",
    "#badteeth_literacy_gdp.head()"
   ]
  },
  {
   "cell_type": "markdown",
   "metadata": {
    "collapsed": true
   },
   "source": [
    "# The Health Data"
   ]
  },
  {
   "cell_type": "code",
   "execution_count": 8,
   "metadata": {
    "collapsed": false
   },
   "outputs": [
    {
     "data": {
      "text/plain": [
       "'we discarded 73 rows, since they dont have any data associated with them'"
      ]
     },
     "execution_count": 8,
     "metadata": {},
     "output_type": "execute_result"
    }
   ],
   "source": [
    "health = pd.read_csv(\"healthexpend.csv\")\n",
    "health.rename(columns = {\"Per.capita.government.expenditure.on.health.at.average.exchange.rate..US..\":\"Country\"}, inplace = True)\n",
    "old =  health.shape[0]\n",
    "health.dropna(how=\"all\", subset = list(health.columns)[1:], inplace=True)\n",
    "new = health.shape[0]\n",
    "'we discarded ' + str(old - new) + ' rows, since they dont have any data associated with them'"
   ]
  },
  {
   "cell_type": "code",
   "execution_count": 10,
   "metadata": {
    "collapsed": false
   },
   "outputs": [],
   "source": [
    "badteeth_literacy_gdp_health = pd.merge(badteeth_literacy_gdp, health, how = \"inner\", on = \"Country\")\n",
    "badteeth_literacy_gdp_health[\"health_avg\"] = badteeth_literacy_gdp_health[list(badteeth_literacy_gdp_health.columns)[4:]].mean(axis=1,skipna = True)\n",
    "badteeth_literacy_gdp_health.drop(list(badteeth_literacy_gdp_health.columns)[4:badteeth_literacy_gdp_health.shape[1]-1], axis = 1, inplace = True)\n",
    "#badteeth_literacy_gdp_health.head()"
   ]
  },
  {
   "cell_type": "markdown",
   "metadata": {},
   "source": [
    "# Sugar Consumption Data"
   ]
  },
  {
   "cell_type": "code",
   "execution_count": 11,
   "metadata": {
    "collapsed": false
   },
   "outputs": [
    {
     "data": {
      "text/plain": [
       "'we discarded 99 rows, since they dont have any data associated with them'"
      ]
     },
     "execution_count": 11,
     "metadata": {},
     "output_type": "execute_result"
    }
   ],
   "source": [
    "sugar = pd.read_csv(\"sugar_consumption.csv\")\n",
    "sugar.rename(columns = {\"NA.\":\"Country\"}, inplace = True)\n",
    "old =  sugar.shape[0]\n",
    "sugar.dropna(how=\"all\", subset = list(sugar.columns)[1:], inplace=True)\n",
    "new = sugar.shape[0]\n",
    "'we discarded ' + str(old - new) + ' rows, since they dont have any data associated with them'"
   ]
  },
  {
   "cell_type": "markdown",
   "metadata": {
    "collapsed": false
   },
   "source": [
    "badteeth_literacy_gdp_health_sugar = pd.merge(badteeth_literacy_gdp_health, sugar, how = \"inner\", on = \"Country\")\n",
    "badteeth_literacy_gdp_health_sugar[\"sugar_avg\"] = badteeth_literacy_gdp_health_sugar[list(badteeth_literacy_gdp_health_sugar.columns)[5:]].mean(axis=1,skipna = True)\n",
    "badteeth_literacy_gdp_health_sugar.drop(list(badteeth_literacy_gdp_health_sugar.columns)[5:badteeth_literacy_gdp_health_sugar.shape[1]-1], axis = 1, inplace = True)\n",
    "badteeth_literacy_gdp_health_sugar.head()"
   ]
  },
  {
   "cell_type": "markdown",
   "metadata": {},
   "source": [
    "## Correlations between Bad Teeth - GDP - Health Expenditure - Literacy and Sugar Consumption"
   ]
  },
  {
   "cell_type": "code",
   "execution_count": 13,
   "metadata": {
    "collapsed": false
   },
   "outputs": [
    {
     "data": {
      "text/html": [
       "<div>\n",
       "<table border=\"1\" class=\"dataframe\">\n",
       "  <thead>\n",
       "    <tr style=\"text-align: right;\">\n",
       "      <th></th>\n",
       "      <th>badteeth</th>\n",
       "      <th>literacy_avg</th>\n",
       "      <th>gdp_avg</th>\n",
       "      <th>health_avg</th>\n",
       "      <th>sugar_avg</th>\n",
       "    </tr>\n",
       "  </thead>\n",
       "  <tbody>\n",
       "    <tr>\n",
       "      <th>badteeth</th>\n",
       "      <td>1.000000</td>\n",
       "      <td>0.445264</td>\n",
       "      <td>0.362571</td>\n",
       "      <td>0.343606</td>\n",
       "      <td>0.379611</td>\n",
       "    </tr>\n",
       "    <tr>\n",
       "      <th>literacy_avg</th>\n",
       "      <td>0.445264</td>\n",
       "      <td>1.000000</td>\n",
       "      <td>0.616197</td>\n",
       "      <td>0.649783</td>\n",
       "      <td>0.531244</td>\n",
       "    </tr>\n",
       "    <tr>\n",
       "      <th>gdp_avg</th>\n",
       "      <td>0.362571</td>\n",
       "      <td>0.616197</td>\n",
       "      <td>1.000000</td>\n",
       "      <td>0.950041</td>\n",
       "      <td>0.768604</td>\n",
       "    </tr>\n",
       "    <tr>\n",
       "      <th>health_avg</th>\n",
       "      <td>0.343606</td>\n",
       "      <td>0.649783</td>\n",
       "      <td>0.950041</td>\n",
       "      <td>1.000000</td>\n",
       "      <td>0.746128</td>\n",
       "    </tr>\n",
       "    <tr>\n",
       "      <th>sugar_avg</th>\n",
       "      <td>0.379611</td>\n",
       "      <td>0.531244</td>\n",
       "      <td>0.768604</td>\n",
       "      <td>0.746128</td>\n",
       "      <td>1.000000</td>\n",
       "    </tr>\n",
       "  </tbody>\n",
       "</table>\n",
       "</div>"
      ],
      "text/plain": [
       "              badteeth  literacy_avg   gdp_avg  health_avg  sugar_avg\n",
       "badteeth      1.000000      0.445264  0.362571    0.343606   0.379611\n",
       "literacy_avg  0.445264      1.000000  0.616197    0.649783   0.531244\n",
       "gdp_avg       0.362571      0.616197  1.000000    0.950041   0.768604\n",
       "health_avg    0.343606      0.649783  0.950041    1.000000   0.746128\n",
       "sugar_avg     0.379611      0.531244  0.768604    0.746128   1.000000"
      ]
     },
     "execution_count": 13,
     "metadata": {},
     "output_type": "execute_result"
    }
   ],
   "source": [
    "#Bad Teeth seems to be most correlated with literacy_avg\n",
    "#and literacy is most correlated with gdp and health expenditure\n",
    "#Surprisingly sugar consumption is not very well correlated with bad teeth\n",
    "badteeth_literacy_gdp_health_sugar.corr(method = \"spearman\")"
   ]
  },
  {
   "cell_type": "markdown",
   "metadata": {
    "collapsed": true
   },
   "source": [
    "# Linear Model"
   ]
  },
  {
   "cell_type": "code",
   "execution_count": 17,
   "metadata": {
    "collapsed": false
   },
   "outputs": [
    {
     "data": {
      "text/plain": [
       "LinearRegression(copy_X=True, fit_intercept=True, normalize=False)"
      ]
     },
     "execution_count": 17,
     "metadata": {},
     "output_type": "execute_result"
    }
   ],
   "source": [
    "#create a linear regression object\n",
    "lm = LinearRegression()"
   ]
  },
  {
   "cell_type": "code",
   "execution_count": 20,
   "metadata": {
    "collapsed": false
   },
   "outputs": [
    {
     "data": {
      "text/html": [
       "<div>\n",
       "<table border=\"1\" class=\"dataframe\">\n",
       "  <thead>\n",
       "    <tr style=\"text-align: right;\">\n",
       "      <th></th>\n",
       "      <th>literacy_avg</th>\n",
       "      <th>gdp_avg</th>\n",
       "      <th>health_avg</th>\n",
       "      <th>sugar_avg</th>\n",
       "    </tr>\n",
       "  </thead>\n",
       "  <tbody>\n",
       "    <tr>\n",
       "      <th>0</th>\n",
       "      <td>80.046624</td>\n",
       "      <td>10460.159368</td>\n",
       "      <td>282.826662</td>\n",
       "      <td>63.511591</td>\n",
       "    </tr>\n",
       "    <tr>\n",
       "      <th>1</th>\n",
       "      <td>69.723543</td>\n",
       "      <td>1487.355625</td>\n",
       "      <td>44.111681</td>\n",
       "      <td>97.758182</td>\n",
       "    </tr>\n",
       "    <tr>\n",
       "      <th>2</th>\n",
       "      <td>84.339633</td>\n",
       "      <td>3074.829677</td>\n",
       "      <td>100.265111</td>\n",
       "      <td>120.550000</td>\n",
       "    </tr>\n",
       "    <tr>\n",
       "      <th>3</th>\n",
       "      <td>88.439129</td>\n",
       "      <td>20991.519647</td>\n",
       "      <td>549.706067</td>\n",
       "      <td>108.220000</td>\n",
       "    </tr>\n",
       "    <tr>\n",
       "      <th>4</th>\n",
       "      <td>97.332859</td>\n",
       "      <td>1590.190034</td>\n",
       "      <td>132.698130</td>\n",
       "      <td>45.101538</td>\n",
       "    </tr>\n",
       "  </tbody>\n",
       "</table>\n",
       "</div>"
      ],
      "text/plain": [
       "   literacy_avg       gdp_avg  health_avg   sugar_avg\n",
       "0     80.046624  10460.159368  282.826662   63.511591\n",
       "1     69.723543   1487.355625   44.111681   97.758182\n",
       "2     84.339633   3074.829677  100.265111  120.550000\n",
       "3     88.439129  20991.519647  549.706067  108.220000\n",
       "4     97.332859   1590.190034  132.698130   45.101538"
      ]
     },
     "execution_count": 20,
     "metadata": {},
     "output_type": "execute_result"
    }
   ],
   "source": [
    "#Preapre the feature space\n",
    "Features = badteeth_literacy_gdp_health_sugar.drop([\"badteeth\", \"Country\"], axis = 1)\n",
    "Features.head()"
   ]
  },
  {
   "cell_type": "code",
   "execution_count": 24,
   "metadata": {
    "collapsed": false
   },
   "outputs": [
    {
     "name": "stdout",
     "output_type": "stream",
     "text": [
      "Estimated intercept coefficient:  0.227253003677\n",
      "Estimated # of coefficients:  4\n"
     ]
    },
    {
     "data": {
      "text/html": [
       "<div>\n",
       "<table border=\"1\" class=\"dataframe\">\n",
       "  <thead>\n",
       "    <tr style=\"text-align: right;\">\n",
       "      <th></th>\n",
       "      <th>features</th>\n",
       "      <th>coefficients</th>\n",
       "    </tr>\n",
       "  </thead>\n",
       "  <tbody>\n",
       "    <tr>\n",
       "      <th>0</th>\n",
       "      <td>literacy_avg</td>\n",
       "      <td>0.019783</td>\n",
       "    </tr>\n",
       "    <tr>\n",
       "      <th>1</th>\n",
       "      <td>gdp_avg</td>\n",
       "      <td>0.000038</td>\n",
       "    </tr>\n",
       "    <tr>\n",
       "      <th>2</th>\n",
       "      <td>health_avg</td>\n",
       "      <td>-0.001134</td>\n",
       "    </tr>\n",
       "    <tr>\n",
       "      <th>3</th>\n",
       "      <td>sugar_avg</td>\n",
       "      <td>0.005547</td>\n",
       "    </tr>\n",
       "  </tbody>\n",
       "</table>\n",
       "</div>"
      ],
      "text/plain": [
       "       features  coefficients\n",
       "0  literacy_avg      0.019783\n",
       "1       gdp_avg      0.000038\n",
       "2    health_avg     -0.001134\n",
       "3     sugar_avg      0.005547"
      ]
     },
     "execution_count": 24,
     "metadata": {},
     "output_type": "execute_result"
    }
   ],
   "source": [
    "lm.fit(Features, badteeth_literacy_gdp_health_sugar.badteeth)\n",
    "print \"Estimated intercept coefficient: \", lm.intercept_\n",
    "print \"Estimated # of coefficients: \", len(lm.coef_)\n",
    "pd.DataFrame(zip(Features.columns, lm.coef_), columns=[\"features\",\"coefficients\"])"
   ]
  },
  {
   "cell_type": "code",
   "execution_count": 25,
   "metadata": {
    "collapsed": false
   },
   "outputs": [
    {
     "name": "stderr",
     "output_type": "stream",
     "text": [
      "/Users/bengin/anaconda/lib/python2.7/site-packages/matplotlib/collections.py:590: FutureWarning: elementwise comparison failed; returning scalar instead, but in the future will perform elementwise comparison\n",
      "  if self._edgecolors == str('face'):\n"
     ]
    },
    {
     "data": {
      "image/png": "[encoded data removed]",
      "text/plain": [
       "<matplotlib.figure.Figure at 0x10c79d550>"
      ]
     },
     "metadata": {},
     "output_type": "display_data"
    }
   ],
   "source": [
    "#Again the most important feature seems to be the literacy\n",
    "fig = plt.figure()\n",
    "fig.suptitle(\"Spearman Corrleation Score = \" + str(badteeth_literacy_gdp_health_sugar.corr(\"spearman\").literacy_avg[\"gdp_avg\"]))\n",
    "ax = sns.regplot(x=\"literacy_avg\", y=\"badteeth\", data=badteeth_literacy_gdp_health_sugar);"
   ]
  },
  {
   "cell_type": "code",
   "execution_count": 31,
   "metadata": {
    "collapsed": false
   },
   "outputs": [
    {
     "data": {
      "text/plain": [
       "0.20027629279384629"
      ]
     },
     "execution_count": 31,
     "metadata": {},
     "output_type": "execute_result"
    },
    {
     "data": {
      "image/png": "[encoded data removed]",
      "text/plain": [
       "<matplotlib.figure.Figure at 0x10de32810>"
      ]
     },
     "metadata": {},
     "output_type": "display_data"
    }
   ],
   "source": [
    "Predictions = lm.predict(Features)\n",
    "sns.regplot(Predictions, badteeth_literacy_gdp_health_sugar.badteeth)\n",
    "#mean squared error\n",
    "lm.score(Features,badteeth_literacy_gdp_health_sugar.badteeth)"
   ]
  },
  {
   "cell_type": "code",
   "execution_count": null,
   "metadata": {
    "collapsed": true
   },
   "outputs": [],
   "source": []
  }
 ],
 "metadata": {
  "kernelspec": {
   "display_name": "Python 2",
   "language": "python",
   "name": "python2"
  },
  "language_info": {
   "codemirror_mode": {
    "name": "ipython",
    "version": 2
   },
   "file_extension": ".py",
   "mimetype": "text/x-python",
   "name": "python",
   "nbconvert_exporter": "python",
   "pygments_lexer": "ipython2",
   "version": "2.7.12"
  }
 },
 "nbformat": 4,
 "nbformat_minor": 0
}
