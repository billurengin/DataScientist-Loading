{
 "cells": [
  {
   "cell_type": "markdown",
   "metadata": {
    "_cell_guid": "1efc9d17-84a3-c7c6-4ac2-0c7ad248c4da"
   },
   "source": [
    "###Hello Everyone! \n",
    "### I am a newbie in Kaggle and this is my first *\"kernel attempt\"*, which is in progress. \n",
    "### Any suggestions / comments  appreciated.  \n",
    "### Thanks for checking this out :)"
   ]
  },
  {
   "cell_type": "code",
   "execution_count": 17,
   "metadata": {
    "_cell_guid": "71bd96e0-47c7-b403-d16e-f8c779a8883d",
    "collapsed": true
   },
   "outputs": [],
   "source": [
    "import numpy as np # linear algebra\n",
    "import pandas as pd # data processing, CSV file I/O (e.g. pd.read_csv)\n",
    "import seaborn as sns\n",
    "from sklearn.linear_model import LinearRegression\n",
    "%matplotlib inline\n",
    "import matplotlib.pyplot as plt\n",
    "pd.options.display.max_columns = None\n",
    "from IPython.display import display, HTML"
   ]
  },
  {
   "cell_type": "markdown",
   "metadata": {
    "_cell_guid": "58ccf737-49d9-ecde-6fb3-15683e33ce02"
   },
   "source": [
    "## First Step : Loading and Formatting Data\n",
    "as a quick and dirty approach I decided to use the avg values over time in my first attempt"
   ]
  },
  {
   "cell_type": "code",
   "execution_count": 18,
   "metadata": {
    "collapsed": true
   },
   "outputs": [],
   "source": [
    "columns2discard = [\"X2005\",\"X2006\",\"X2007\",\"X2008\",\"X2009\", \"X2010\",\"X2011\"]"
   ]
  },
  {
   "cell_type": "markdown",
   "metadata": {
    "_cell_guid": "1c657e0c-a09d-2dd5-31f5-838df679266c"
   },
   "source": [
    "### **1. Literacy Data**"
   ]
  },
  {
   "cell_type": "code",
   "execution_count": 19,
   "metadata": {
    "_cell_guid": "a7816ea4-de40-459d-4c01-2f4dd67ceac2",
    "collapsed": false
   },
   "outputs": [
    {
     "data": {
      "text/html": [
       "<div>\n",
       "<table border=\"1\" class=\"dataframe\">\n",
       "  <thead>\n",
       "    <tr style=\"text-align: right;\">\n",
       "      <th></th>\n",
       "      <th>Country</th>\n",
       "      <th>literacy_avg</th>\n",
       "    </tr>\n",
       "  </thead>\n",
       "  <tbody>\n",
       "    <tr>\n",
       "      <th>0</th>\n",
       "      <td>Afghanistan</td>\n",
       "      <td>18.157681</td>\n",
       "    </tr>\n",
       "    <tr>\n",
       "      <th>1</th>\n",
       "      <td>Albania</td>\n",
       "      <td>98.712978</td>\n",
       "    </tr>\n",
       "    <tr>\n",
       "      <th>2</th>\n",
       "      <td>Algeria</td>\n",
       "      <td>59.752193</td>\n",
       "    </tr>\n",
       "    <tr>\n",
       "      <th>4</th>\n",
       "      <td>Angola</td>\n",
       "      <td>67.405416</td>\n",
       "    </tr>\n",
       "    <tr>\n",
       "      <th>5</th>\n",
       "      <td>Anguilla</td>\n",
       "      <td>95.407098</td>\n",
       "    </tr>\n",
       "  </tbody>\n",
       "</table>\n",
       "</div>"
      ],
      "text/plain": [
       "       Country  literacy_avg\n",
       "0  Afghanistan     18.157681\n",
       "1      Albania     98.712978\n",
       "2      Algeria     59.752193\n",
       "4       Angola     67.405416\n",
       "5     Anguilla     95.407098"
      ]
     },
     "execution_count": 19,
     "metadata": {},
     "output_type": "execute_result"
    }
   ],
   "source": [
    "literacy = pd.read_csv(\"adultliteracy.csv\")\n",
    "#change first columns name\n",
    "literacy.rename(index = str, columns={\"Adult..15...literacy.rate......Total\":\"Country\"}, inplace=True)\n",
    "#Discard data after 2004 since badteeth data only has 2004 data\n",
    "literacy = literacy.drop(columns2discard, axis = 1)\n",
    "#drop rows with no data\n",
    "literacy.dropna(how=\"all\", subset = list(literacy.columns)[1:], inplace=True)\n",
    "#take the avg of literacy over time\n",
    "literacy[\"literacy_avg\"] = literacy[list(literacy.columns)[1:]].mean(axis=1,skipna = True)\n",
    "literacy.drop(list(literacy.columns)[1:literacy.shape[1]-1], axis = 1, inplace = True)\n",
    "literacy.head()"
   ]
  },
  {
   "cell_type": "markdown",
   "metadata": {
    "_cell_guid": "1cc1a500-ec67-e3aa-e905-dfb7b0bb4a3d"
   },
   "source": [
    "### **2. Bad Teeth Data**"
   ]
  },
  {
   "cell_type": "code",
   "execution_count": 20,
   "metadata": {
    "_cell_guid": "d15354e5-878d-6a28-f842-b7ae720c38f7",
    "collapsed": false
   },
   "outputs": [
    {
     "data": {
      "text/html": [
       "<div>\n",
       "<table border=\"1\" class=\"dataframe\">\n",
       "  <thead>\n",
       "    <tr style=\"text-align: right;\">\n",
       "      <th></th>\n",
       "      <th>Country</th>\n",
       "      <th>badteeth</th>\n",
       "    </tr>\n",
       "  </thead>\n",
       "  <tbody>\n",
       "    <tr>\n",
       "      <th>108</th>\n",
       "      <td>Martinique</td>\n",
       "      <td>6.30</td>\n",
       "    </tr>\n",
       "    <tr>\n",
       "      <th>143</th>\n",
       "      <td>Saint Lucia</td>\n",
       "      <td>6.00</td>\n",
       "    </tr>\n",
       "    <tr>\n",
       "      <th>147</th>\n",
       "      <td>Saudi Arabia</td>\n",
       "      <td>5.90</td>\n",
       "    </tr>\n",
       "    <tr>\n",
       "      <th>142</th>\n",
       "      <td>Saint Kitts and Nevis</td>\n",
       "      <td>5.50</td>\n",
       "    </tr>\n",
       "    <tr>\n",
       "      <th>149</th>\n",
       "      <td>Serbia and Montenegro</td>\n",
       "      <td>5.35</td>\n",
       "    </tr>\n",
       "  </tbody>\n",
       "</table>\n",
       "</div>"
      ],
      "text/plain": [
       "                   Country  badteeth\n",
       "108             Martinique      6.30\n",
       "143            Saint Lucia      6.00\n",
       "147           Saudi Arabia      5.90\n",
       "142  Saint Kitts and Nevis      5.50\n",
       "149  Serbia and Montenegro      5.35"
      ]
     },
     "execution_count": 20,
     "metadata": {},
     "output_type": "execute_result"
    }
   ],
   "source": [
    "#Read and Clean Data then merge with bad_teeth\n",
    "badteeth = pd.read_csv(\"badteeth.csv\")\n",
    "badteeth.drop([\"NA..1\", \"NA..2\", \"NA..3\"], axis = 1, inplace = True)\n",
    "badteeth.dropna(inplace = True)\n",
    "badteeth.rename(columns = {\"NA.\":\"Country\", \"X2004\":\"badteeth\"}, inplace=True)\n",
    "badteeth.sort_values(by=[\"badteeth\"], ascending=[0], inplace = True)\n",
    "badteeth.head()"
   ]
  },
  {
   "cell_type": "markdown",
   "metadata": {
    "_cell_guid": "6a46c04d-2ab9-e284-3f40-8787009b24ca"
   },
   "source": [
    "### **3. GDP Data**"
   ]
  },
  {
   "cell_type": "code",
   "execution_count": 21,
   "metadata": {
    "_cell_guid": "f50b183e-1857-f491-fca3-7938a183d8bf",
    "collapsed": false
   },
   "outputs": [
    {
     "data": {
      "text/html": [
       "<div>\n",
       "<table border=\"1\" class=\"dataframe\">\n",
       "  <thead>\n",
       "    <tr style=\"text-align: right;\">\n",
       "      <th></th>\n",
       "      <th>Country</th>\n",
       "      <th>GDP_avg</th>\n",
       "    </tr>\n",
       "  </thead>\n",
       "  <tbody>\n",
       "    <tr>\n",
       "      <th>3</th>\n",
       "      <td>Albania</td>\n",
       "      <td>1044.215027</td>\n",
       "    </tr>\n",
       "    <tr>\n",
       "      <th>4</th>\n",
       "      <td>Algeria</td>\n",
       "      <td>1642.126912</td>\n",
       "    </tr>\n",
       "    <tr>\n",
       "      <th>6</th>\n",
       "      <td>Andorra</td>\n",
       "      <td>16818.692591</td>\n",
       "    </tr>\n",
       "    <tr>\n",
       "      <th>7</th>\n",
       "      <td>Angola</td>\n",
       "      <td>320.966427</td>\n",
       "    </tr>\n",
       "    <tr>\n",
       "      <th>9</th>\n",
       "      <td>Antigua and Barbuda</td>\n",
       "      <td>8056.655795</td>\n",
       "    </tr>\n",
       "  </tbody>\n",
       "</table>\n",
       "</div>"
      ],
      "text/plain": [
       "               Country       GDP_avg\n",
       "3              Albania   1044.215027\n",
       "4              Algeria   1642.126912\n",
       "6              Andorra  16818.692591\n",
       "7               Angola    320.966427\n",
       "9  Antigua and Barbuda   8056.655795"
      ]
     },
     "execution_count": 21,
     "metadata": {},
     "output_type": "execute_result"
    }
   ],
   "source": [
    "GDP = pd.read_csv(\"gdp.csv\")\n",
    "GDP.rename(index = str, columns={\"Income.per.person..fixed.2000.US..\":\"Country\"}, inplace=True)\n",
    "#Discard data after 2004 since badteeth data only has 2004 data\n",
    "GDP = GDP.drop(columns2discard, axis = 1)\n",
    "GDP.dropna(how=\"all\", subset = list(GDP.columns)[1:], inplace=True)\n",
    "#take the avg of GDP over time \n",
    "GDP[\"GDP_avg\"] = GDP[list(GDP.columns)[1:]].mean(axis=1,skipna = True)\n",
    "GDP.drop(list(GDP.columns)[1:GDP.shape[1]-1], axis = 1, inplace = True)\n",
    "GDP.head()"
   ]
  },
  {
   "cell_type": "markdown",
   "metadata": {
    "_cell_guid": "0d796c22-e99e-a520-aab8-5f698a362be5"
   },
   "source": [
    "### **4. Health Expenditure Data**"
   ]
  },
  {
   "cell_type": "code",
   "execution_count": 22,
   "metadata": {
    "_cell_guid": "bfa8fcf0-a7d8-47b7-f8e9-830c40976077",
    "collapsed": false
   },
   "outputs": [],
   "source": [
    "health = pd.read_csv(\"healthexpend.csv\")\n",
    "health.rename(columns = {\"Per.capita.government.expenditure.on.health.at.average.exchange.rate..US..\":\"Country\"}, inplace = True)\n",
    "#Discard data after 2004 since badteeth data only has 2004 data\n",
    "sugar_columns2discard = columns2discard.remove(\"X2011\") \n",
    "health = health.drop(columns2discard, axis = 1)\n",
    "health.dropna(how=\"all\", subset = list(health.columns)[1:], inplace=True)\n",
    "#take the avg of health expenditure over time \n",
    "health[\"health_avg\"] = health[list(health.columns)[1:]].mean(axis=1,skipna = True)\n",
    "health.drop(list(health.columns)[1:health.shape[1]-1], axis = 1, inplace = True)"
   ]
  },
  {
   "cell_type": "markdown",
   "metadata": {
    "_cell_guid": "647f49d2-1eda-6c9b-e1d0-6d0cb5b2893f"
   },
   "source": [
    "### **5. Sugar Consumption  Data**"
   ]
  },
  {
   "cell_type": "code",
   "execution_count": 23,
   "metadata": {
    "_cell_guid": "b16f2ebd-7cb7-cf3e-f9ec-32677e94e757",
    "collapsed": false
   },
   "outputs": [],
   "source": [
    "sugar = pd.read_csv(\"sugar_consumption.csv\")\n",
    "sugar.rename(columns = {\"NA.\":\"Country\"}, inplace = True)\n",
    "sugar.dropna(how=\"all\", subset = list(sugar.columns)[1:], inplace=True)\n",
    "sugar.drop([\"NA..1\"], axis = 1, inplace = True)\n",
    "#take the avg of sugar over time \n",
    "sugar[\"sugar_avg\"] = sugar[list(sugar.columns)[1:]].mean(axis=1,skipna = True)\n",
    "sugar.drop(list(sugar.columns)[1:sugar.shape[1]-1], axis = 1, inplace = True)"
   ]
  },
  {
   "cell_type": "markdown",
   "metadata": {
    "_cell_guid": "c57cd751-1e86-381d-3bab-b407128d7777"
   },
   "source": [
    "## Second Step : Merging Data and Correlation Inspection"
   ]
  },
  {
   "cell_type": "code",
   "execution_count": 24,
   "metadata": {
    "_cell_guid": "ceb269b5-833a-1f8c-a2c1-5b71e3394ee1",
    "collapsed": false
   },
   "outputs": [
    {
     "data": {
      "text/html": [
       "<div>\n",
       "<table border=\"1\" class=\"dataframe\">\n",
       "  <thead>\n",
       "    <tr style=\"text-align: right;\">\n",
       "      <th></th>\n",
       "      <th>badteeth</th>\n",
       "      <th>literacy_avg</th>\n",
       "      <th>GDP_avg</th>\n",
       "      <th>sugar_avg</th>\n",
       "      <th>health_avg</th>\n",
       "    </tr>\n",
       "  </thead>\n",
       "  <tbody>\n",
       "    <tr>\n",
       "      <th>badteeth</th>\n",
       "      <td>1.000000</td>\n",
       "      <td>0.423500</td>\n",
       "      <td>0.348473</td>\n",
       "      <td>0.391039</td>\n",
       "      <td>0.331927</td>\n",
       "    </tr>\n",
       "    <tr>\n",
       "      <th>literacy_avg</th>\n",
       "      <td>0.423500</td>\n",
       "      <td>1.000000</td>\n",
       "      <td>0.572255</td>\n",
       "      <td>0.509958</td>\n",
       "      <td>0.585159</td>\n",
       "    </tr>\n",
       "    <tr>\n",
       "      <th>GDP_avg</th>\n",
       "      <td>0.348473</td>\n",
       "      <td>0.572255</td>\n",
       "      <td>1.000000</td>\n",
       "      <td>0.785660</td>\n",
       "      <td>0.949046</td>\n",
       "    </tr>\n",
       "    <tr>\n",
       "      <th>sugar_avg</th>\n",
       "      <td>0.391039</td>\n",
       "      <td>0.509958</td>\n",
       "      <td>0.785660</td>\n",
       "      <td>1.000000</td>\n",
       "      <td>0.768675</td>\n",
       "    </tr>\n",
       "    <tr>\n",
       "      <th>health_avg</th>\n",
       "      <td>0.331927</td>\n",
       "      <td>0.585159</td>\n",
       "      <td>0.949046</td>\n",
       "      <td>0.768675</td>\n",
       "      <td>1.000000</td>\n",
       "    </tr>\n",
       "  </tbody>\n",
       "</table>\n",
       "</div>"
      ],
      "text/plain": [
       "              badteeth  literacy_avg   GDP_avg  sugar_avg  health_avg\n",
       "badteeth      1.000000      0.423500  0.348473   0.391039    0.331927\n",
       "literacy_avg  0.423500      1.000000  0.572255   0.509958    0.585159\n",
       "GDP_avg       0.348473      0.572255  1.000000   0.785660    0.949046\n",
       "sugar_avg     0.391039      0.509958  0.785660   1.000000    0.768675\n",
       "health_avg    0.331927      0.585159  0.949046   0.768675    1.000000"
      ]
     },
     "metadata": {},
     "output_type": "display_data"
    },
    {
     "data": {
      "image/png": "[encoded data removed]",
      "text/plain": [
       "<matplotlib.figure.Figure at 0x10c6a0550>"
      ]
     },
     "metadata": {},
     "output_type": "display_data"
    }
   ],
   "source": [
    "#Bad Teeth seems to be most correlated with literacy_avg\n",
    "#and literacy is most correlated with gdp and health expenditure\n",
    "#Surprisingly sugar consumption is not very well correlated with bad teeth\n",
    "#we may discover a more intiutive relationship between bad teeth and sugar if we look at all data instead of considering the avg.\n",
    "all_data = badteeth.merge(literacy,on='Country', how = \"inner\").merge(GDP,on='Country', how = \"inner\").merge(sugar,on='Country', how = \"inner\").merge(health,on='Country', how = \"inner\")\n",
    "display(all_data.corr(method = \"spearman\"))\n",
    "fig = plt.figure()\n",
    "fig.suptitle(\"Spearman Corrleation Score = \" + str(all_data.corr(\"spearman\").badteeth[\"literacy_avg\"]))\n",
    "sns.regplot(x=\"literacy_avg\", y=\"badteeth\", data=all_data);"
   ]
  },
  {
   "cell_type": "markdown",
   "metadata": {
    "_cell_guid": "12ccb01e-e91a-1dd6-8e0e-2dff81ccef41"
   },
   "source": [
    "## Third Step : Linear Model\n",
    "It seems like in case we use the parameter averages the best model to predict bad teeth is:\n",
    "bad teeth ~ gdp + health + sugar + literacy"
   ]
  },
  {
   "cell_type": "code",
   "execution_count": 25,
   "metadata": {
    "_cell_guid": "f0ed91ef-8760-792f-c547-0ae00e84ad5b",
    "collapsed": false
   },
   "outputs": [
    {
     "data": {
      "text/html": [
       "<div>\n",
       "<table border=\"1\" class=\"dataframe\">\n",
       "  <thead>\n",
       "    <tr style=\"text-align: right;\">\n",
       "      <th></th>\n",
       "      <th>coefficients</th>\n",
       "      <th>features</th>\n",
       "    </tr>\n",
       "  </thead>\n",
       "  <tbody>\n",
       "    <tr>\n",
       "      <th>0</th>\n",
       "      <td>0.016438</td>\n",
       "      <td>literacy_avg</td>\n",
       "    </tr>\n",
       "    <tr>\n",
       "      <th>1</th>\n",
       "      <td>0.000041</td>\n",
       "      <td>GDP_avg</td>\n",
       "    </tr>\n",
       "    <tr>\n",
       "      <th>2</th>\n",
       "      <td>0.006615</td>\n",
       "      <td>sugar_avg</td>\n",
       "    </tr>\n",
       "    <tr>\n",
       "      <th>3</th>\n",
       "      <td>-0.001529</td>\n",
       "      <td>health_avg</td>\n",
       "    </tr>\n",
       "  </tbody>\n",
       "</table>\n",
       "</div>"
      ],
      "text/plain": [
       "   coefficients      features\n",
       "0      0.016438  literacy_avg\n",
       "1      0.000041       GDP_avg\n",
       "2      0.006615     sugar_avg\n",
       "3     -0.001529    health_avg"
      ]
     },
     "metadata": {},
     "output_type": "display_data"
    },
    {
     "data": {
      "text/plain": [
       "'Score for : bad teeth ~ gdp + health + sugar + literacy : 0.198511628394'"
      ]
     },
     "execution_count": 25,
     "metadata": {},
     "output_type": "execute_result"
    },
    {
     "data": {
      "image/png": "[encoded data removed]",
      "text/plain": [
       "<matplotlib.figure.Figure at 0x10c078250>"
      ]
     },
     "metadata": {},
     "output_type": "display_data"
    }
   ],
   "source": [
    "#create a linear regression object\n",
    "lm = LinearRegression()\n",
    "#Preapre the feature space\n",
    "Features = all_data.drop([\"badteeth\", \"Country\"], axis = 1)\n",
    "lm.fit(Features, all_data.badteeth)\n",
    "display(pd.DataFrame({\"features\" : Features.columns, \"coefficients\":lm.coef_}))\n",
    "#literacy on average seems to be the most important feature for bad teeth prediction\n",
    "Predictions = lm.predict(Features)\n",
    "sns.regplot(Predictions, all_data.badteeth)\n",
    "\"Score for : bad teeth ~ gdp + health + sugar + literacy : \" + str(lm.score(Features,all_data.badteeth))"
   ]
  },
  {
   "cell_type": "code",
   "execution_count": 26,
   "metadata": {
    "_cell_guid": "d60d51d2-41e0-82f7-1153-e3268e5e5de3",
    "collapsed": false
   },
   "outputs": [
    {
     "data": {
      "text/plain": [
       "'Score for : bad teeth ~  sugar + literacy : 0.164477734611'"
      ]
     },
     "execution_count": 26,
     "metadata": {},
     "output_type": "execute_result"
    },
    {
     "data": {
      "image/png": "[encoded data removed]",
      "text/plain": [
       "<matplotlib.figure.Figure at 0x10c078cd0>"
      ]
     },
     "metadata": {},
     "output_type": "display_data"
    }
   ],
   "source": [
    "Features = all_data.drop([\"badteeth\", \"Country\",\"GDP_avg\",\"health_avg\"], axis = 1)\n",
    "lm.fit(Features, all_data.badteeth)\n",
    "Predictions = lm.predict(Features)\n",
    "sns.regplot(Predictions, all_data.badteeth)\n",
    "\"Score for : bad teeth ~  sugar + literacy : \" + str(lm.score(Features,all_data.badteeth))"
   ]
  },
  {
   "cell_type": "code",
   "execution_count": 27,
   "metadata": {
    "_cell_guid": "fbe26073-c9e9-4029-eb1d-bd8093849c64",
    "collapsed": false
   },
   "outputs": [
    {
     "data": {
      "text/plain": [
       "'Score for : bad teeth ~  sugar + literacy + health: 0.18448754279'"
      ]
     },
     "execution_count": 27,
     "metadata": {},
     "output_type": "execute_result"
    },
    {
     "data": {
      "image/png": "[encoded data removed]",
      "text/plain": [
       "<matplotlib.figure.Figure at 0x10e0bf3d0>"
      ]
     },
     "metadata": {},
     "output_type": "display_data"
    }
   ],
   "source": [
    "Features = all_data.drop([\"badteeth\", \"Country\",\"GDP_avg\"], axis = 1)\n",
    "lm.fit(Features, all_data.badteeth)\n",
    "Predictions = lm.predict(Features)\n",
    "sns.regplot(Predictions, all_data.badteeth)\n",
    "\"Score for : bad teeth ~  sugar + literacy + health: \" + str(lm.score(Features,all_data.badteeth))"
   ]
  },
  {
   "cell_type": "markdown",
   "metadata": {},
   "source": [
    "## What happens if we use the slope of our time dependent data? "
   ]
  },
  {
   "cell_type": "code",
   "execution_count": 109,
   "metadata": {
    "collapsed": true
   },
   "outputs": [],
   "source": [
    "def find_slopes(file, first_column, column_name):\n",
    "    data = pd.read_csv(file)\n",
    "    data.rename(index = str, columns={first_column:\"Country\"}, inplace=True)\n",
    "    data.dropna(how=\"all\", subset = list(data.columns)[1:], inplace=True)\n",
    "    if file == \"sugar_consumption.csv\":\n",
    "        data.drop([\"NA..1\"], axis = 1, inplace = True)\n",
    "    \n",
    "    if file == \"\":\n",
    "        columns2discard = [\"X2005\",\"X2006\",\"X2007\",\"X2008\",\"X2009\", \"X2010\"] \n",
    "    else:\n",
    "        columns2discard = [\"X2005\",\"X2006\",\"X2007\",\"X2008\",\"X2009\", \"X2010\",\"X2011\"] \n",
    "    \n",
    "    data = data.drop(columns2discard, axis = 1)\n",
    "    data_melt = pd.melt(data, id_vars=['Country'], value_vars = list(data.columns)[1:])\n",
    "    data_melt[\"variable\"] = data_melt[\"variable\"].str.replace(\"X\",\"\").astype(np.int64)\n",
    "    data_melt.rename(index = str, columns={ \"variable\": \"year\"}, inplace = True)\n",
    "    data_melt = data_melt.dropna()\n",
    "\n",
    "    groups = dict(list(data_melt.groupby(\"Country\")))\n",
    "    earliest = []\n",
    "    earliest_value = []\n",
    "    latest = []\n",
    "    latest_value = []\n",
    "    for c in groups.keys():\n",
    "        earliest_year = groups[c].year.min()\n",
    "        earliest.append(earliest_year) \n",
    "        earliest_value.append(float(data_melt[(data_melt.Country == c) & (data_melt.year == earliest_year)].value))\n",
    "        latest_year = groups[c].year.max()\n",
    "        latest.append(latest_year)\n",
    "        latest_value.append(float(data_melt[(data_melt.Country == c) & (data_melt.year == latest_year)].value))\n",
    "\n",
    "    data_slopes = pd.DataFrame({'Country':groups.keys(),'min_year' : earliest,'max_year' : latest,'min_value' : earliest_value,'max_value' : latest_value })\n",
    "    data_slopes[column_name] = (data_slopes.max_value - data_slopes.min_value)/(data_slopes.max_year - data_slopes.min_year)\n",
    "    data_slopes.sort_values(by=[column_name], ascending=[0], inplace=True)\n",
    "    return data_slopes\n",
    "    \n",
    "\n"
   ]
  },
  {
   "cell_type": "code",
   "execution_count": 103,
   "metadata": {
    "collapsed": false
   },
   "outputs": [
    {
     "data": {
      "text/html": [
       "<div>\n",
       "<table border=\"1\" class=\"dataframe\">\n",
       "  <thead>\n",
       "    <tr style=\"text-align: right;\">\n",
       "      <th></th>\n",
       "      <th>Country</th>\n",
       "      <th>max_value</th>\n",
       "      <th>max_year</th>\n",
       "      <th>min_value</th>\n",
       "      <th>min_year</th>\n",
       "      <th>literacy_slope</th>\n",
       "    </tr>\n",
       "  </thead>\n",
       "  <tbody>\n",
       "    <tr>\n",
       "      <th>77</th>\n",
       "      <td>Niger</td>\n",
       "      <td>28.672422</td>\n",
       "      <td>2005</td>\n",
       "      <td>9.391331</td>\n",
       "      <td>2001</td>\n",
       "      <td>4.820273</td>\n",
       "    </tr>\n",
       "    <tr>\n",
       "      <th>52</th>\n",
       "      <td>Timor-Leste</td>\n",
       "      <td>58.308983</td>\n",
       "      <td>2010</td>\n",
       "      <td>37.600000</td>\n",
       "      <td>2001</td>\n",
       "      <td>2.300998</td>\n",
       "    </tr>\n",
       "    <tr>\n",
       "      <th>117</th>\n",
       "      <td>Burundi</td>\n",
       "      <td>86.947870</td>\n",
       "      <td>2008</td>\n",
       "      <td>22.508551</td>\n",
       "      <td>1979</td>\n",
       "      <td>2.222046</td>\n",
       "    </tr>\n",
       "    <tr>\n",
       "      <th>139</th>\n",
       "      <td>Eritrea</td>\n",
       "      <td>68.937440</td>\n",
       "      <td>2011</td>\n",
       "      <td>52.513951</td>\n",
       "      <td>2002</td>\n",
       "      <td>1.824832</td>\n",
       "    </tr>\n",
       "    <tr>\n",
       "      <th>105</th>\n",
       "      <td>Yemen, Rep.</td>\n",
       "      <td>65.261950</td>\n",
       "      <td>2011</td>\n",
       "      <td>37.090004</td>\n",
       "      <td>1994</td>\n",
       "      <td>1.657173</td>\n",
       "    </tr>\n",
       "  </tbody>\n",
       "</table>\n",
       "</div>"
      ],
      "text/plain": [
       "         Country  max_value  max_year  min_value  min_year  literacy_slope\n",
       "77         Niger  28.672422      2005   9.391331      2001        4.820273\n",
       "52   Timor-Leste  58.308983      2010  37.600000      2001        2.300998\n",
       "117      Burundi  86.947870      2008  22.508551      1979        2.222046\n",
       "139      Eritrea  68.937440      2011  52.513951      2002        1.824832\n",
       "105  Yemen, Rep.  65.261950      2011  37.090004      1994        1.657173"
      ]
     },
     "metadata": {},
     "output_type": "display_data"
    },
    {
     "data": {
      "text/html": [
       "<div>\n",
       "<table border=\"1\" class=\"dataframe\">\n",
       "  <thead>\n",
       "    <tr style=\"text-align: right;\">\n",
       "      <th></th>\n",
       "      <th>Country</th>\n",
       "      <th>literacy_slope</th>\n",
       "    </tr>\n",
       "  </thead>\n",
       "  <tbody>\n",
       "    <tr>\n",
       "      <th>77</th>\n",
       "      <td>Niger</td>\n",
       "      <td>4.820273</td>\n",
       "    </tr>\n",
       "    <tr>\n",
       "      <th>52</th>\n",
       "      <td>Timor-Leste</td>\n",
       "      <td>2.300998</td>\n",
       "    </tr>\n",
       "    <tr>\n",
       "      <th>117</th>\n",
       "      <td>Burundi</td>\n",
       "      <td>2.222046</td>\n",
       "    </tr>\n",
       "    <tr>\n",
       "      <th>139</th>\n",
       "      <td>Eritrea</td>\n",
       "      <td>1.824832</td>\n",
       "    </tr>\n",
       "    <tr>\n",
       "      <th>105</th>\n",
       "      <td>Yemen, Rep.</td>\n",
       "      <td>1.657173</td>\n",
       "    </tr>\n",
       "  </tbody>\n",
       "</table>\n",
       "</div>"
      ],
      "text/plain": [
       "         Country  literacy_slope\n",
       "77         Niger        4.820273\n",
       "52   Timor-Leste        2.300998\n",
       "117      Burundi        2.222046\n",
       "139      Eritrea        1.824832\n",
       "105  Yemen, Rep.        1.657173"
      ]
     },
     "execution_count": 103,
     "metadata": {},
     "output_type": "execute_result"
    }
   ],
   "source": [
    "literacy = find_slopes(\"adultliteracy.csv\",\"Adult..15...literacy.rate......Total\", \"literacy_slope\")\n",
    "display(literacy.head())\n",
    "literacy = literacy[[\"Country\",\"literacy_slope\"]]\n",
    "literacy.head()"
   ]
  },
  {
   "cell_type": "code",
   "execution_count": 104,
   "metadata": {
    "collapsed": false
   },
   "outputs": [
    {
     "data": {
      "text/html": [
       "<div>\n",
       "<table border=\"1\" class=\"dataframe\">\n",
       "  <thead>\n",
       "    <tr style=\"text-align: right;\">\n",
       "      <th></th>\n",
       "      <th>Country</th>\n",
       "      <th>max_value</th>\n",
       "      <th>max_year</th>\n",
       "      <th>min_value</th>\n",
       "      <th>min_year</th>\n",
       "      <th>gdp_slope</th>\n",
       "    </tr>\n",
       "  </thead>\n",
       "  <tbody>\n",
       "    <tr>\n",
       "      <th>33</th>\n",
       "      <td>Monaco</td>\n",
       "      <td>105147.437697</td>\n",
       "      <td>2009</td>\n",
       "      <td>50458.247562</td>\n",
       "      <td>1970</td>\n",
       "      <td>1402.286927</td>\n",
       "    </tr>\n",
       "    <tr>\n",
       "      <th>80</th>\n",
       "      <td>Liechtenstein</td>\n",
       "      <td>81647.100031</td>\n",
       "      <td>2009</td>\n",
       "      <td>32622.112056</td>\n",
       "      <td>1970</td>\n",
       "      <td>1257.050974</td>\n",
       "    </tr>\n",
       "    <tr>\n",
       "      <th>64</th>\n",
       "      <td>Macao, China</td>\n",
       "      <td>40258.808625</td>\n",
       "      <td>2011</td>\n",
       "      <td>10028.380839</td>\n",
       "      <td>1982</td>\n",
       "      <td>1042.428544</td>\n",
       "    </tr>\n",
       "    <tr>\n",
       "      <th>103</th>\n",
       "      <td>Isle of Man</td>\n",
       "      <td>29462.264923</td>\n",
       "      <td>2007</td>\n",
       "      <td>8217.082111</td>\n",
       "      <td>1984</td>\n",
       "      <td>923.703601</td>\n",
       "    </tr>\n",
       "    <tr>\n",
       "      <th>55</th>\n",
       "      <td>Bermuda</td>\n",
       "      <td>63036.360611</td>\n",
       "      <td>2010</td>\n",
       "      <td>19588.612697</td>\n",
       "      <td>1960</td>\n",
       "      <td>868.954958</td>\n",
       "    </tr>\n",
       "  </tbody>\n",
       "</table>\n",
       "</div>"
      ],
      "text/plain": [
       "           Country      max_value  max_year     min_value  min_year  \\\n",
       "33          Monaco  105147.437697      2009  50458.247562      1970   \n",
       "80   Liechtenstein   81647.100031      2009  32622.112056      1970   \n",
       "64    Macao, China   40258.808625      2011  10028.380839      1982   \n",
       "103    Isle of Man   29462.264923      2007   8217.082111      1984   \n",
       "55         Bermuda   63036.360611      2010  19588.612697      1960   \n",
       "\n",
       "       gdp_slope  \n",
       "33   1402.286927  \n",
       "80   1257.050974  \n",
       "64   1042.428544  \n",
       "103   923.703601  \n",
       "55    868.954958  "
      ]
     },
     "metadata": {},
     "output_type": "display_data"
    },
    {
     "data": {
      "text/html": [
       "<div>\n",
       "<table border=\"1\" class=\"dataframe\">\n",
       "  <thead>\n",
       "    <tr style=\"text-align: right;\">\n",
       "      <th></th>\n",
       "      <th>Country</th>\n",
       "      <th>gdp_slope</th>\n",
       "    </tr>\n",
       "  </thead>\n",
       "  <tbody>\n",
       "    <tr>\n",
       "      <th>33</th>\n",
       "      <td>Monaco</td>\n",
       "      <td>1402.286927</td>\n",
       "    </tr>\n",
       "    <tr>\n",
       "      <th>80</th>\n",
       "      <td>Liechtenstein</td>\n",
       "      <td>1257.050974</td>\n",
       "    </tr>\n",
       "    <tr>\n",
       "      <th>64</th>\n",
       "      <td>Macao, China</td>\n",
       "      <td>1042.428544</td>\n",
       "    </tr>\n",
       "    <tr>\n",
       "      <th>103</th>\n",
       "      <td>Isle of Man</td>\n",
       "      <td>923.703601</td>\n",
       "    </tr>\n",
       "    <tr>\n",
       "      <th>55</th>\n",
       "      <td>Bermuda</td>\n",
       "      <td>868.954958</td>\n",
       "    </tr>\n",
       "  </tbody>\n",
       "</table>\n",
       "</div>"
      ],
      "text/plain": [
       "           Country    gdp_slope\n",
       "33          Monaco  1402.286927\n",
       "80   Liechtenstein  1257.050974\n",
       "64    Macao, China  1042.428544\n",
       "103    Isle of Man   923.703601\n",
       "55         Bermuda   868.954958"
      ]
     },
     "execution_count": 104,
     "metadata": {},
     "output_type": "execute_result"
    }
   ],
   "source": [
    "GDP = find_slopes(\"gdp.csv\",\"Income.per.person..fixed.2000.US..\", \"gdp_slope\")\n",
    "display(GDP.head())\n",
    "GDP = GDP[[\"Country\",\"gdp_slope\"]]\n",
    "GDP.head()"
   ]
  },
  {
   "cell_type": "code",
   "execution_count": 106,
   "metadata": {
    "collapsed": false
   },
   "outputs": [
    {
     "data": {
      "text/html": [
       "<div>\n",
       "<table border=\"1\" class=\"dataframe\">\n",
       "  <thead>\n",
       "    <tr style=\"text-align: right;\">\n",
       "      <th></th>\n",
       "      <th>Country</th>\n",
       "      <th>max_value</th>\n",
       "      <th>max_year</th>\n",
       "      <th>min_value</th>\n",
       "      <th>min_year</th>\n",
       "      <th>health_slope</th>\n",
       "    </tr>\n",
       "  </thead>\n",
       "  <tbody>\n",
       "    <tr>\n",
       "      <th>104</th>\n",
       "      <td>Luxembourg</td>\n",
       "      <td>6905.530344</td>\n",
       "      <td>2010</td>\n",
       "      <td>2602.905554</td>\n",
       "      <td>1995</td>\n",
       "      <td>286.841653</td>\n",
       "    </tr>\n",
       "    <tr>\n",
       "      <th>58</th>\n",
       "      <td>Norway</td>\n",
       "      <td>6788.388756</td>\n",
       "      <td>2010</td>\n",
       "      <td>2506.679137</td>\n",
       "      <td>1995</td>\n",
       "      <td>285.447308</td>\n",
       "    </tr>\n",
       "    <tr>\n",
       "      <th>170</th>\n",
       "      <td>Denmark</td>\n",
       "      <td>5465.086052</td>\n",
       "      <td>2010</td>\n",
       "      <td>2333.210858</td>\n",
       "      <td>1995</td>\n",
       "      <td>208.791680</td>\n",
       "    </tr>\n",
       "    <tr>\n",
       "      <th>31</th>\n",
       "      <td>Monaco</td>\n",
       "      <td>5569.664754</td>\n",
       "      <td>2010</td>\n",
       "      <td>2576.385274</td>\n",
       "      <td>1995</td>\n",
       "      <td>199.551965</td>\n",
       "    </tr>\n",
       "    <tr>\n",
       "      <th>157</th>\n",
       "      <td>Netherlands</td>\n",
       "      <td>4431.118412</td>\n",
       "      <td>2010</td>\n",
       "      <td>1603.209373</td>\n",
       "      <td>1995</td>\n",
       "      <td>188.527269</td>\n",
       "    </tr>\n",
       "  </tbody>\n",
       "</table>\n",
       "</div>"
      ],
      "text/plain": [
       "         Country    max_value  max_year    min_value  min_year  health_slope\n",
       "104   Luxembourg  6905.530344      2010  2602.905554      1995    286.841653\n",
       "58        Norway  6788.388756      2010  2506.679137      1995    285.447308\n",
       "170      Denmark  5465.086052      2010  2333.210858      1995    208.791680\n",
       "31        Monaco  5569.664754      2010  2576.385274      1995    199.551965\n",
       "157  Netherlands  4431.118412      2010  1603.209373      1995    188.527269"
      ]
     },
     "metadata": {},
     "output_type": "display_data"
    },
    {
     "data": {
      "text/html": [
       "<div>\n",
       "<table border=\"1\" class=\"dataframe\">\n",
       "  <thead>\n",
       "    <tr style=\"text-align: right;\">\n",
       "      <th></th>\n",
       "      <th>Country</th>\n",
       "      <th>health_slope</th>\n",
       "    </tr>\n",
       "  </thead>\n",
       "  <tbody>\n",
       "    <tr>\n",
       "      <th>104</th>\n",
       "      <td>Luxembourg</td>\n",
       "      <td>286.841653</td>\n",
       "    </tr>\n",
       "    <tr>\n",
       "      <th>58</th>\n",
       "      <td>Norway</td>\n",
       "      <td>285.447308</td>\n",
       "    </tr>\n",
       "    <tr>\n",
       "      <th>170</th>\n",
       "      <td>Denmark</td>\n",
       "      <td>208.791680</td>\n",
       "    </tr>\n",
       "    <tr>\n",
       "      <th>31</th>\n",
       "      <td>Monaco</td>\n",
       "      <td>199.551965</td>\n",
       "    </tr>\n",
       "    <tr>\n",
       "      <th>157</th>\n",
       "      <td>Netherlands</td>\n",
       "      <td>188.527269</td>\n",
       "    </tr>\n",
       "  </tbody>\n",
       "</table>\n",
       "</div>"
      ],
      "text/plain": [
       "         Country  health_slope\n",
       "104   Luxembourg    286.841653\n",
       "58        Norway    285.447308\n",
       "170      Denmark    208.791680\n",
       "31        Monaco    199.551965\n",
       "157  Netherlands    188.527269"
      ]
     },
     "execution_count": 106,
     "metadata": {},
     "output_type": "execute_result"
    }
   ],
   "source": [
    "health = find_slopes(\"healthexpend.csv\",\"Per.capita.government.expenditure.on.health.at.average.exchange.rate..US..\", \"health_slope\")\n",
    "display(health.head())\n",
    "health = health[[\"Country\",\"health_slope\"]]\n",
    "health.head()"
   ]
  },
  {
   "cell_type": "code",
   "execution_count": 110,
   "metadata": {
    "collapsed": false
   },
   "outputs": [
    {
     "data": {
      "text/html": [
       "<div>\n",
       "<table border=\"1\" class=\"dataframe\">\n",
       "  <thead>\n",
       "    <tr style=\"text-align: right;\">\n",
       "      <th></th>\n",
       "      <th>Country</th>\n",
       "      <th>max_value</th>\n",
       "      <th>max_year</th>\n",
       "      <th>min_value</th>\n",
       "      <th>min_year</th>\n",
       "      <th>sugar_slope</th>\n",
       "    </tr>\n",
       "  </thead>\n",
       "  <tbody>\n",
       "    <tr>\n",
       "      <th>123</th>\n",
       "      <td>Estonia</td>\n",
       "      <td>167.12</td>\n",
       "      <td>2004</td>\n",
       "      <td>52.06</td>\n",
       "      <td>1992</td>\n",
       "      <td>9.588333</td>\n",
       "    </tr>\n",
       "    <tr>\n",
       "      <th>109</th>\n",
       "      <td>Georgia</td>\n",
       "      <td>90.41</td>\n",
       "      <td>2004</td>\n",
       "      <td>41.10</td>\n",
       "      <td>1992</td>\n",
       "      <td>4.109167</td>\n",
       "    </tr>\n",
       "    <tr>\n",
       "      <th>62</th>\n",
       "      <td>Armenia</td>\n",
       "      <td>57.53</td>\n",
       "      <td>2004</td>\n",
       "      <td>13.70</td>\n",
       "      <td>1992</td>\n",
       "      <td>3.652500</td>\n",
       "    </tr>\n",
       "    <tr>\n",
       "      <th>119</th>\n",
       "      <td>Macedonia, FYR</td>\n",
       "      <td>95.89</td>\n",
       "      <td>2004</td>\n",
       "      <td>60.27</td>\n",
       "      <td>1992</td>\n",
       "      <td>2.968333</td>\n",
       "    </tr>\n",
       "    <tr>\n",
       "      <th>78</th>\n",
       "      <td>Czech Rep.</td>\n",
       "      <td>142.47</td>\n",
       "      <td>2004</td>\n",
       "      <td>112.33</td>\n",
       "      <td>1993</td>\n",
       "      <td>2.740000</td>\n",
       "    </tr>\n",
       "  </tbody>\n",
       "</table>\n",
       "</div>"
      ],
      "text/plain": [
       "            Country  max_value  max_year  min_value  min_year  sugar_slope\n",
       "123         Estonia     167.12      2004      52.06      1992     9.588333\n",
       "109         Georgia      90.41      2004      41.10      1992     4.109167\n",
       "62          Armenia      57.53      2004      13.70      1992     3.652500\n",
       "119  Macedonia, FYR      95.89      2004      60.27      1992     2.968333\n",
       "78       Czech Rep.     142.47      2004     112.33      1993     2.740000"
      ]
     },
     "metadata": {},
     "output_type": "display_data"
    },
    {
     "data": {
      "text/html": [
       "<div>\n",
       "<table border=\"1\" class=\"dataframe\">\n",
       "  <thead>\n",
       "    <tr style=\"text-align: right;\">\n",
       "      <th></th>\n",
       "      <th>Country</th>\n",
       "      <th>sugar_slope</th>\n",
       "    </tr>\n",
       "  </thead>\n",
       "  <tbody>\n",
       "    <tr>\n",
       "      <th>123</th>\n",
       "      <td>Estonia</td>\n",
       "      <td>9.588333</td>\n",
       "    </tr>\n",
       "    <tr>\n",
       "      <th>109</th>\n",
       "      <td>Georgia</td>\n",
       "      <td>4.109167</td>\n",
       "    </tr>\n",
       "    <tr>\n",
       "      <th>62</th>\n",
       "      <td>Armenia</td>\n",
       "      <td>3.652500</td>\n",
       "    </tr>\n",
       "    <tr>\n",
       "      <th>119</th>\n",
       "      <td>Macedonia, FYR</td>\n",
       "      <td>2.968333</td>\n",
       "    </tr>\n",
       "    <tr>\n",
       "      <th>78</th>\n",
       "      <td>Czech Rep.</td>\n",
       "      <td>2.740000</td>\n",
       "    </tr>\n",
       "  </tbody>\n",
       "</table>\n",
       "</div>"
      ],
      "text/plain": [
       "            Country  sugar_slope\n",
       "123         Estonia     9.588333\n",
       "109         Georgia     4.109167\n",
       "62          Armenia     3.652500\n",
       "119  Macedonia, FYR     2.968333\n",
       "78       Czech Rep.     2.740000"
      ]
     },
     "execution_count": 110,
     "metadata": {},
     "output_type": "execute_result"
    }
   ],
   "source": [
    "sugar = find_slopes(\"sugar_consumption.csv\",\"NA.\", \"sugar_slope\")\n",
    "display(sugar.head())\n",
    "sugar = sugar[[\"Country\",\"sugar_slope\"]]\n",
    "sugar.head()"
   ]
  },
  {
   "cell_type": "code",
   "execution_count": 114,
   "metadata": {
    "collapsed": false
   },
   "outputs": [
    {
     "data": {
      "text/html": [
       "<div>\n",
       "<table border=\"1\" class=\"dataframe\">\n",
       "  <thead>\n",
       "    <tr style=\"text-align: right;\">\n",
       "      <th></th>\n",
       "      <th>badteeth</th>\n",
       "      <th>literacy_slope</th>\n",
       "      <th>gdp_slope</th>\n",
       "      <th>sugar_slope</th>\n",
       "      <th>health_slope</th>\n",
       "    </tr>\n",
       "  </thead>\n",
       "  <tbody>\n",
       "    <tr>\n",
       "      <th>badteeth</th>\n",
       "      <td>1.000000</td>\n",
       "      <td>-0.219944</td>\n",
       "      <td>0.268974</td>\n",
       "      <td>0.242196</td>\n",
       "      <td>0.316303</td>\n",
       "    </tr>\n",
       "    <tr>\n",
       "      <th>literacy_slope</th>\n",
       "      <td>-0.219944</td>\n",
       "      <td>1.000000</td>\n",
       "      <td>-0.224070</td>\n",
       "      <td>-0.062036</td>\n",
       "      <td>-0.290256</td>\n",
       "    </tr>\n",
       "    <tr>\n",
       "      <th>gdp_slope</th>\n",
       "      <td>0.268974</td>\n",
       "      <td>-0.224070</td>\n",
       "      <td>1.000000</td>\n",
       "      <td>0.285749</td>\n",
       "      <td>0.759389</td>\n",
       "    </tr>\n",
       "    <tr>\n",
       "      <th>sugar_slope</th>\n",
       "      <td>0.242196</td>\n",
       "      <td>-0.062036</td>\n",
       "      <td>0.285749</td>\n",
       "      <td>1.000000</td>\n",
       "      <td>0.224671</td>\n",
       "    </tr>\n",
       "    <tr>\n",
       "      <th>health_slope</th>\n",
       "      <td>0.316303</td>\n",
       "      <td>-0.290256</td>\n",
       "      <td>0.759389</td>\n",
       "      <td>0.224671</td>\n",
       "      <td>1.000000</td>\n",
       "    </tr>\n",
       "  </tbody>\n",
       "</table>\n",
       "</div>"
      ],
      "text/plain": [
       "                badteeth  literacy_slope  gdp_slope  sugar_slope  health_slope\n",
       "badteeth        1.000000       -0.219944   0.268974     0.242196      0.316303\n",
       "literacy_slope -0.219944        1.000000  -0.224070    -0.062036     -0.290256\n",
       "gdp_slope       0.268974       -0.224070   1.000000     0.285749      0.759389\n",
       "sugar_slope     0.242196       -0.062036   0.285749     1.000000      0.224671\n",
       "health_slope    0.316303       -0.290256   0.759389     0.224671      1.000000"
      ]
     },
     "metadata": {},
     "output_type": "display_data"
    },
    {
     "data": {
      "image/png": "[encoded data removed]",
      "text/plain": [
       "<matplotlib.figure.Figure at 0x10e3597d0>"
      ]
     },
     "metadata": {},
     "output_type": "display_data"
    }
   ],
   "source": [
    "all_data = badteeth.merge(literacy,on='Country', how = \"inner\").merge(GDP,on='Country', how = \"inner\").merge(sugar,on='Country', how = \"inner\").merge(health,on='Country', how = \"inner\")\n",
    "display(all_data.corr(method = \"spearman\"))\n",
    "fig = plt.figure()\n",
    "fig.suptitle(\"Spearman Corrleation Score = \" + str(all_data.corr(\"spearman\").badteeth[\"health_slope\"]))\n",
    "sns.regplot(x=\"health_slope\", y=\"badteeth\", data=all_data);"
   ]
  },
  {
   "cell_type": "code",
   "execution_count": 125,
   "metadata": {
    "collapsed": false
   },
   "outputs": [
    {
     "name": "stdout",
     "output_type": "stream",
     "text": [
      "1.18\n",
      "2.8\n",
      "1.32300438133\n",
      "16.173578382\n"
     ]
    },
    {
     "data": {
      "image/png": "[encoded data removed]",
      "text/plain": [
       "<matplotlib.figure.Figure at 0x10f3b3310>"
      ]
     },
     "metadata": {},
     "output_type": "display_data"
    }
   ],
   "source": [
    "all_data = badteeth.merge(literacy,on='Country', how = \"inner\").merge(GDP,on='Country', how = \"inner\").merge(sugar,on='Country', how = \"inner\").merge(health,on='Country', how = \"inner\")\n",
    "low_q_teeth = all_data.badteeth.quantile(0.25)\n",
    "print low_q_teeth\n",
    "high_q_teeth = all_data.badteeth.quantile(0.75)\n",
    "print high_q_teeth\n",
    "low_q_health = all_data.health_slope.quantile(0.25)\n",
    "print low_q_health\n",
    "high_q_health = all_data.health_slope.quantile(0.75)\n",
    "print high_q_health\n",
    "\n",
    "\n",
    "all_data = all_data[(all_data.health_slope > low_q_health) &\\\n",
    "                   (all_data.health_slope < high_q_health) &\\\n",
    "                   (all_data.badteeth > low_q_teeth) &\\\n",
    "                   (all_data.badteeth < high_q_teeth)]\n",
    "fig = plt.figure()\n",
    "fig.suptitle(\"Spearman Corrleation Score = \" + str(all_data.corr().badteeth[\"health_slope\"]))\n",
    "sns.regplot(x=\"health_slope\", y=\"badteeth\", data=all_data);"
   ]
  },
  {
   "cell_type": "markdown",
   "metadata": {
    "_cell_guid": "c7138974-24ab-7ba7-d6dc-a089560c94ce"
   },
   "source": [
    "## Fourth Step : Visualization"
   ]
  },
  {
   "cell_type": "markdown",
   "metadata": {
    "_cell_guid": "319afa0f-64ef-0c09-bd25-e0dc8fb9bdb6"
   },
   "source": [
    "## The Literacy Data"
   ]
  },
  {
   "cell_type": "code",
   "execution_count": null,
   "metadata": {
    "_cell_guid": "368141c8-cf45-4551-f071-a87dbf5e881c",
    "collapsed": false
   },
   "outputs": [],
   "source": [
    "#organizing the rows\n",
    "literacy = pd.read_csv(\"../input/adultliteracy.csv\")\n",
    "literacy.rename(index = str, columns={\"Adult..15...literacy.rate......Total\":\"Country\"}, inplace=True)\n",
    "literacy.dropna(how=\"all\", subset = list(literacy.columns)[1:], inplace=True)\n",
    "literacy_melt = pd.melt(literacy, id_vars=['Country'], value_vars = list(literacy.columns)[1:])\n",
    "literacy_melt[\"variable\"] = literacy_melt[\"variable\"].str.replace(\"X\",\"\").astype(np.int64)\n",
    "#Lets sort the data according to the literacy rate\n",
    "literacy_melt_sorted = literacy_melt.sort_values(by=['value'], ascending=[0])\n",
    "g = sns.set_style(\"whitegrid\")\n",
    "plt.figure(figsize=(18,10))\n",
    "ax = sns.boxplot(x=literacy_melt_sorted.Country, y=literacy_melt_sorted.value)\n",
    "plt.setp(ax.get_xticklabels()[::2], visible=False)\n",
    "g = plt.xticks(rotation=90)"
   ]
  },
  {
   "cell_type": "code",
   "execution_count": null,
   "metadata": {
    "_cell_guid": "852483f8-3974-a931-3a0b-911721028a99",
    "collapsed": true
   },
   "outputs": [],
   "source": [
    "#As Some countries have remained in the same literacy percentage, some encountered a great change during time\n",
    "#which countries experienced the greatest variance?\n",
    "#Top ten countries with the greatest variance in literacy\n",
    "highest_var_countries = literacy_melt.groupby(\"Country\").value.std().sort_values(ascending = False)[0:10]"
   ]
  },
  {
   "cell_type": "code",
   "execution_count": null,
   "metadata": {
    "_cell_guid": "e3aa28fc-2e92-30b9-3a74-7e0a4129fd6b",
    "collapsed": false
   },
   "outputs": [],
   "source": [
    "#I want to learn whether they improved or worsened\n",
    "plot_data = literacy_melt[literacy_melt.Country.isin(list(highest_var_countries.index))].dropna()\n",
    "plt.figure(figsize=(18,10))\n",
    "g = sns.FacetGrid(plot_data, col=\"Country\", col_wrap=4, size=3)\n",
    "g.map(sns.pointplot, \"variable\", \"value\", color=\"purple\", ci=None);"
   ]
  },
  {
   "cell_type": "markdown",
   "metadata": {
    "_cell_guid": "e0402e43-6390-7b00-1f6a-83931f976e16"
   },
   "source": [
    "# GDP Data"
   ]
  },
  {
   "cell_type": "code",
   "execution_count": null,
   "metadata": {
    "_cell_guid": "0b7ffa32-8ca3-c148-c00f-6d2465b5c0ce",
    "collapsed": false
   },
   "outputs": [],
   "source": [
    "GDP = pd.read_csv(\"../input/gdp.csv\")\n",
    "GDP.rename(index = str, columns={\"Income.per.person..fixed.2000.US..\":\"Country\"}, inplace=True)\n",
    "GDP.dropna(how=\"all\", subset = list(GDP.columns)[1:], inplace=True)\n",
    "GDP_melt = pd.melt(GDP, id_vars=['Country'], value_vars = list(GDP.columns)[1:])\n",
    "GDP_melt[\"variable\"] = GDP_melt[\"variable\"].str.replace(\"X\",\"\").astype(np.int64)\n",
    "#Lets sort the data according to the literacy rate\n",
    "GDP_melt_sorted = GDP_melt.sort_values(by=['value'], ascending=[0])\n",
    "g = sns.set_style(\"whitegrid\")\n",
    "plt.figure(figsize=(18,10))\n",
    "ax = sns.boxplot(x=GDP_melt_sorted.Country, y=GDP_melt_sorted.value)\n",
    "plt.setp(ax.get_xticklabels()[::2], visible=False)\n",
    "g = plt.xticks(rotation=90)"
   ]
  }
 ],
 "metadata": {
  "_change_revision": 4,
  "_is_fork": false,
  "kernelspec": {
   "display_name": "Python 2",
   "language": "python",
   "name": "python2"
  },
  "language_info": {
   "codemirror_mode": {
    "name": "ipython",
    "version": 2
   },
   "file_extension": ".py",
   "mimetype": "text/x-python",
   "name": "python",
   "nbconvert_exporter": "python",
   "pygments_lexer": "ipython2",
   "version": "2.7.12"
  }
 },
 "nbformat": 4,
 "nbformat_minor": 0
}
